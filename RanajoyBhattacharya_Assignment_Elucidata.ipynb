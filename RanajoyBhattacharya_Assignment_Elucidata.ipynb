{
 "cells": [
  {
   "cell_type": "code",
   "execution_count": 1,
   "metadata": {},
   "outputs": [],
   "source": [
    "import numpy as np\n",
    "import pandas as pd\n",
    "import matplotlib.pyplot as plt\n",
    "import seaborn as sns\n",
    "sns.set(color_codes=True)\n",
    "pd.set_option('display.max_rows', 500)\n",
    "pd.set_option('display.max_columns', 500)\n",
    "pd.set_option('display.width', 1000)"
   ]
  },
  {
   "cell_type": "code",
   "execution_count": 2,
   "metadata": {},
   "outputs": [
    {
     "data": {
      "text/html": [
       "<div>\n",
       "<style scoped>\n",
       "    .dataframe tbody tr th:only-of-type {\n",
       "        vertical-align: middle;\n",
       "    }\n",
       "\n",
       "    .dataframe tbody tr th {\n",
       "        vertical-align: top;\n",
       "    }\n",
       "\n",
       "    .dataframe thead th {\n",
       "        text-align: right;\n",
       "    }\n",
       "</style>\n",
       "<table border=\"1\" class=\"dataframe\">\n",
       "  <thead>\n",
       "    <tr style=\"text-align: right;\">\n",
       "      <th></th>\n",
       "      <th>symbol</th>\n",
       "      <th>S1</th>\n",
       "      <th>S2</th>\n",
       "      <th>S3</th>\n",
       "      <th>S4</th>\n",
       "      <th>S5</th>\n",
       "      <th>S6</th>\n",
       "      <th>S7</th>\n",
       "      <th>S8</th>\n",
       "      <th>S9</th>\n",
       "      <th>...</th>\n",
       "      <th>S21</th>\n",
       "      <th>S22</th>\n",
       "      <th>S23</th>\n",
       "      <th>S24</th>\n",
       "      <th>S25</th>\n",
       "      <th>S26</th>\n",
       "      <th>S27</th>\n",
       "      <th>S28</th>\n",
       "      <th>S29</th>\n",
       "      <th>S30</th>\n",
       "    </tr>\n",
       "  </thead>\n",
       "  <tbody>\n",
       "    <tr>\n",
       "      <td>0</td>\n",
       "      <td>Zzz3</td>\n",
       "      <td>253.401685</td>\n",
       "      <td>402.850878</td>\n",
       "      <td>230.957463</td>\n",
       "      <td>688.486264</td>\n",
       "      <td>358.067836</td>\n",
       "      <td>344.962350</td>\n",
       "      <td>441.155001</td>\n",
       "      <td>301.149694</td>\n",
       "      <td>390.361685</td>\n",
       "      <td>...</td>\n",
       "      <td>507.882774</td>\n",
       "      <td>465.081486</td>\n",
       "      <td>415.478767</td>\n",
       "      <td>297.061149</td>\n",
       "      <td>488.848114</td>\n",
       "      <td>367.912141</td>\n",
       "      <td>307.199908</td>\n",
       "      <td>347.802509</td>\n",
       "      <td>411.227261</td>\n",
       "      <td>283.709694</td>\n",
       "    </tr>\n",
       "    <tr>\n",
       "      <td>1</td>\n",
       "      <td>Zzef1</td>\n",
       "      <td>21.152797</td>\n",
       "      <td>21.152797</td>\n",
       "      <td>21.152797</td>\n",
       "      <td>21.152797</td>\n",
       "      <td>21.152797</td>\n",
       "      <td>21.152797</td>\n",
       "      <td>21.152797</td>\n",
       "      <td>21.152797</td>\n",
       "      <td>21.152797</td>\n",
       "      <td>...</td>\n",
       "      <td>21.152797</td>\n",
       "      <td>21.152797</td>\n",
       "      <td>21.152797</td>\n",
       "      <td>21.152797</td>\n",
       "      <td>21.152797</td>\n",
       "      <td>21.152797</td>\n",
       "      <td>21.152797</td>\n",
       "      <td>21.152797</td>\n",
       "      <td>21.152797</td>\n",
       "      <td>21.152797</td>\n",
       "    </tr>\n",
       "    <tr>\n",
       "      <td>2</td>\n",
       "      <td>Zyx</td>\n",
       "      <td>40.578958</td>\n",
       "      <td>49.235160</td>\n",
       "      <td>59.472005</td>\n",
       "      <td>46.212152</td>\n",
       "      <td>61.969671</td>\n",
       "      <td>55.732843</td>\n",
       "      <td>53.819870</td>\n",
       "      <td>54.315691</td>\n",
       "      <td>73.016585</td>\n",
       "      <td>...</td>\n",
       "      <td>33.512262</td>\n",
       "      <td>36.751853</td>\n",
       "      <td>36.952457</td>\n",
       "      <td>35.718610</td>\n",
       "      <td>27.346198</td>\n",
       "      <td>32.647887</td>\n",
       "      <td>42.006833</td>\n",
       "      <td>32.324596</td>\n",
       "      <td>41.426033</td>\n",
       "      <td>32.754971</td>\n",
       "    </tr>\n",
       "    <tr>\n",
       "      <td>3</td>\n",
       "      <td>Zyg11b</td>\n",
       "      <td>26.373102</td>\n",
       "      <td>35.001901</td>\n",
       "      <td>32.389728</td>\n",
       "      <td>34.932372</td>\n",
       "      <td>35.192365</td>\n",
       "      <td>33.858459</td>\n",
       "      <td>27.948378</td>\n",
       "      <td>21.152797</td>\n",
       "      <td>32.283053</td>\n",
       "      <td>...</td>\n",
       "      <td>21.152797</td>\n",
       "      <td>21.152797</td>\n",
       "      <td>21.152797</td>\n",
       "      <td>21.152797</td>\n",
       "      <td>21.152797</td>\n",
       "      <td>21.152797</td>\n",
       "      <td>21.152797</td>\n",
       "      <td>21.152797</td>\n",
       "      <td>21.152797</td>\n",
       "      <td>21.152797</td>\n",
       "    </tr>\n",
       "    <tr>\n",
       "      <td>4</td>\n",
       "      <td>Zyg11a</td>\n",
       "      <td>21.152797</td>\n",
       "      <td>21.152797</td>\n",
       "      <td>21.152797</td>\n",
       "      <td>21.152797</td>\n",
       "      <td>21.152797</td>\n",
       "      <td>21.152797</td>\n",
       "      <td>21.152797</td>\n",
       "      <td>21.152797</td>\n",
       "      <td>21.152797</td>\n",
       "      <td>...</td>\n",
       "      <td>21.152797</td>\n",
       "      <td>21.152797</td>\n",
       "      <td>21.152797</td>\n",
       "      <td>21.152797</td>\n",
       "      <td>21.152797</td>\n",
       "      <td>21.152797</td>\n",
       "      <td>21.152797</td>\n",
       "      <td>21.152797</td>\n",
       "      <td>21.152797</td>\n",
       "      <td>21.152797</td>\n",
       "    </tr>\n",
       "  </tbody>\n",
       "</table>\n",
       "<p>5 rows × 31 columns</p>\n",
       "</div>"
      ],
      "text/plain": [
       "   symbol          S1          S2          S3          S4          S5  \\\n",
       "0    Zzz3  253.401685  402.850878  230.957463  688.486264  358.067836   \n",
       "1   Zzef1   21.152797   21.152797   21.152797   21.152797   21.152797   \n",
       "2     Zyx   40.578958   49.235160   59.472005   46.212152   61.969671   \n",
       "3  Zyg11b   26.373102   35.001901   32.389728   34.932372   35.192365   \n",
       "4  Zyg11a   21.152797   21.152797   21.152797   21.152797   21.152797   \n",
       "\n",
       "           S6          S7          S8          S9  ...         S21  \\\n",
       "0  344.962350  441.155001  301.149694  390.361685  ...  507.882774   \n",
       "1   21.152797   21.152797   21.152797   21.152797  ...   21.152797   \n",
       "2   55.732843   53.819870   54.315691   73.016585  ...   33.512262   \n",
       "3   33.858459   27.948378   21.152797   32.283053  ...   21.152797   \n",
       "4   21.152797   21.152797   21.152797   21.152797  ...   21.152797   \n",
       "\n",
       "          S22         S23         S24         S25         S26         S27  \\\n",
       "0  465.081486  415.478767  297.061149  488.848114  367.912141  307.199908   \n",
       "1   21.152797   21.152797   21.152797   21.152797   21.152797   21.152797   \n",
       "2   36.751853   36.952457   35.718610   27.346198   32.647887   42.006833   \n",
       "3   21.152797   21.152797   21.152797   21.152797   21.152797   21.152797   \n",
       "4   21.152797   21.152797   21.152797   21.152797   21.152797   21.152797   \n",
       "\n",
       "          S28         S29         S30  \n",
       "0  347.802509  411.227261  283.709694  \n",
       "1   21.152797   21.152797   21.152797  \n",
       "2   32.324596   41.426033   32.754971  \n",
       "3   21.152797   21.152797   21.152797  \n",
       "4   21.152797   21.152797   21.152797  \n",
       "\n",
       "[5 rows x 31 columns]"
      ]
     },
     "execution_count": 2,
     "metadata": {},
     "output_type": "execute_result"
    }
   ],
   "source": [
    "gene = pd.read_csv(r\"C:\\Users\\Ranajoy Bhattacharya\\Downloads\\gene_data_anomaly (1).csv\")\n",
    "meta = pd.read_csv(r\"C:\\Users\\Ranajoy Bhattacharya\\Downloads\\MetaData (1).csv\")\n",
    "gene.head()"
   ]
  },
  {
   "cell_type": "code",
   "execution_count": 3,
   "metadata": {},
   "outputs": [
    {
     "data": {
      "text/plain": [
       "(22383, 31)"
      ]
     },
     "execution_count": 3,
     "metadata": {},
     "output_type": "execute_result"
    }
   ],
   "source": [
    "# pd.set_option('display.max_rows', None)\n",
    "# pd.set_option('display.max_columns', None)\n",
    "\n",
    "gene.shape"
   ]
  },
  {
   "cell_type": "code",
   "execution_count": 4,
   "metadata": {},
   "outputs": [
    {
     "data": {
      "text/html": [
       "<div>\n",
       "<style scoped>\n",
       "    .dataframe tbody tr th:only-of-type {\n",
       "        vertical-align: middle;\n",
       "    }\n",
       "\n",
       "    .dataframe tbody tr th {\n",
       "        vertical-align: top;\n",
       "    }\n",
       "\n",
       "    .dataframe thead th {\n",
       "        text-align: right;\n",
       "    }\n",
       "</style>\n",
       "<table border=\"1\" class=\"dataframe\">\n",
       "  <thead>\n",
       "    <tr style=\"text-align: right;\">\n",
       "      <th></th>\n",
       "      <th>sIdx</th>\n",
       "      <th>Time</th>\n",
       "      <th>Unit</th>\n",
       "    </tr>\n",
       "  </thead>\n",
       "  <tbody>\n",
       "    <tr>\n",
       "      <td>0</td>\n",
       "      <td>S1</td>\n",
       "      <td>9</td>\n",
       "      <td>Hours</td>\n",
       "    </tr>\n",
       "    <tr>\n",
       "      <td>1</td>\n",
       "      <td>S2</td>\n",
       "      <td>9</td>\n",
       "      <td>Hours</td>\n",
       "    </tr>\n",
       "    <tr>\n",
       "      <td>2</td>\n",
       "      <td>S3</td>\n",
       "      <td>9</td>\n",
       "      <td>Hours</td>\n",
       "    </tr>\n",
       "    <tr>\n",
       "      <td>3</td>\n",
       "      <td>S4</td>\n",
       "      <td>7</td>\n",
       "      <td>Hours</td>\n",
       "    </tr>\n",
       "    <tr>\n",
       "      <td>4</td>\n",
       "      <td>S5</td>\n",
       "      <td>7</td>\n",
       "      <td>Hours</td>\n",
       "    </tr>\n",
       "  </tbody>\n",
       "</table>\n",
       "</div>"
      ],
      "text/plain": [
       "  sIdx  Time   Unit\n",
       "0   S1     9  Hours\n",
       "1   S2     9  Hours\n",
       "2   S3     9  Hours\n",
       "3   S4     7  Hours\n",
       "4   S5     7  Hours"
      ]
     },
     "execution_count": 4,
     "metadata": {},
     "output_type": "execute_result"
    }
   ],
   "source": [
    "meta.head()"
   ]
  },
  {
   "cell_type": "code",
   "execution_count": 5,
   "metadata": {},
   "outputs": [
    {
     "data": {
      "text/plain": [
       "symbol     0\n",
       "S1        67\n",
       "S2        67\n",
       "S3        60\n",
       "S4        51\n",
       "S5        60\n",
       "S6        56\n",
       "S7        61\n",
       "S8        63\n",
       "S9        61\n",
       "S10       64\n",
       "S11       65\n",
       "S12       64\n",
       "S13       51\n",
       "S14       58\n",
       "S15       63\n",
       "S16       63\n",
       "S17       62\n",
       "S18       60\n",
       "S19       61\n",
       "S20       65\n",
       "S21       63\n",
       "S22       51\n",
       "S23       51\n",
       "S24       48\n",
       "S25       61\n",
       "S26       62\n",
       "S27       66\n",
       "S28       53\n",
       "S29       57\n",
       "S30       56\n",
       "dtype: int64"
      ]
     },
     "execution_count": 5,
     "metadata": {},
     "output_type": "execute_result"
    }
   ],
   "source": [
    "#Check for nulls\n",
    "gene.isnull().sum()"
   ]
  },
  {
   "cell_type": "code",
   "execution_count": 6,
   "metadata": {},
   "outputs": [
    {
     "data": {
      "text/html": [
       "<div>\n",
       "<style scoped>\n",
       "    .dataframe tbody tr th:only-of-type {\n",
       "        vertical-align: middle;\n",
       "    }\n",
       "\n",
       "    .dataframe tbody tr th {\n",
       "        vertical-align: top;\n",
       "    }\n",
       "\n",
       "    .dataframe thead th {\n",
       "        text-align: right;\n",
       "    }\n",
       "</style>\n",
       "<table border=\"1\" class=\"dataframe\">\n",
       "  <thead>\n",
       "    <tr style=\"text-align: right;\">\n",
       "      <th></th>\n",
       "      <th>symbol</th>\n",
       "      <th>S1</th>\n",
       "      <th>S2</th>\n",
       "      <th>S3</th>\n",
       "      <th>S4</th>\n",
       "      <th>S5</th>\n",
       "      <th>S6</th>\n",
       "      <th>S7</th>\n",
       "      <th>S8</th>\n",
       "      <th>S9</th>\n",
       "      <th>...</th>\n",
       "      <th>S21</th>\n",
       "      <th>S22</th>\n",
       "      <th>S23</th>\n",
       "      <th>S24</th>\n",
       "      <th>S25</th>\n",
       "      <th>S26</th>\n",
       "      <th>S27</th>\n",
       "      <th>S28</th>\n",
       "      <th>S29</th>\n",
       "      <th>S30</th>\n",
       "    </tr>\n",
       "  </thead>\n",
       "  <tbody>\n",
       "    <tr>\n",
       "      <td>63</td>\n",
       "      <td>Zmym6</td>\n",
       "      <td>NaN</td>\n",
       "      <td>648.590782</td>\n",
       "      <td>615.078366</td>\n",
       "      <td>559.695346</td>\n",
       "      <td>819.166506</td>\n",
       "      <td>573.146122</td>\n",
       "      <td>797.685258</td>\n",
       "      <td>742.66541</td>\n",
       "      <td>649.458916</td>\n",
       "      <td>...</td>\n",
       "      <td>408.90803</td>\n",
       "      <td>736.893488</td>\n",
       "      <td>414.124161</td>\n",
       "      <td>395.868775</td>\n",
       "      <td>476.199601</td>\n",
       "      <td>421.694505</td>\n",
       "      <td>398.827926</td>\n",
       "      <td>557.137278</td>\n",
       "      <td>504.222173</td>\n",
       "      <td>1443.375594</td>\n",
       "    </tr>\n",
       "  </tbody>\n",
       "</table>\n",
       "<p>1 rows × 31 columns</p>\n",
       "</div>"
      ],
      "text/plain": [
       "   symbol  S1          S2          S3          S4          S5          S6  \\\n",
       "63  Zmym6 NaN  648.590782  615.078366  559.695346  819.166506  573.146122   \n",
       "\n",
       "            S7         S8          S9  ...        S21         S22         S23  \\\n",
       "63  797.685258  742.66541  649.458916  ...  408.90803  736.893488  414.124161   \n",
       "\n",
       "           S24         S25         S26         S27         S28         S29  \\\n",
       "63  395.868775  476.199601  421.694505  398.827926  557.137278  504.222173   \n",
       "\n",
       "            S30  \n",
       "63  1443.375594  \n",
       "\n",
       "[1 rows x 31 columns]"
      ]
     },
     "execution_count": 6,
     "metadata": {},
     "output_type": "execute_result"
    }
   ],
   "source": [
    "gene[gene.symbol == 'Zmym6']"
   ]
  },
  {
   "cell_type": "code",
   "execution_count": 7,
   "metadata": {},
   "outputs": [
    {
     "name": "stdout",
     "output_type": "stream",
     "text": [
      "['S1', 'S2', 'S3']\n",
      "['S4', 'S5', 'S6']\n",
      "['S7', 'S8', 'S9']\n",
      "['S10', 'S11', 'S12']\n",
      "['S13', 'S14', 'S15']\n",
      "['S16', 'S17', 'S18']\n",
      "['S19', 'S20', 'S21']\n",
      "['S22', 'S23', 'S24']\n",
      "['S25', 'S26', 'S27']\n",
      "['S28', 'S29', 'S30']\n"
     ]
    }
   ],
   "source": [
    "l = list(meta['Time'].unique())\n",
    "# print(l)\n",
    "for i in l:\n",
    "    df = list(meta[meta['Time'] == i]['sIdx'])\n",
    "    print(df)\n",
    "    \n",
    "    #take the values into columns\n",
    "    col1 = df[0]\n",
    "    col2 = df[1]\n",
    "    col3 = df[2]\n",
    "    \n",
    "    #all 3 nulls\n",
    "    gene = gene[~(gene[col1].isna() & gene[col2].isna() & gene[col3].isna())]\n",
    "\n",
    "    #any 2 nulls\n",
    "    gene.loc[gene[col1].isna() & gene[col2].isna() , [col1, col2]] = gene[col3]\n",
    "    gene.loc[gene[col1].isna() & gene[col3].isna() , [col1, col3]] = gene[col2]\n",
    "    gene.loc[gene[col3].isna() & gene[col2].isna() , [col3, col2]] = gene[col1]\n",
    "\n",
    "    #any 1 null\n",
    "    gene.loc[gene[col1].isna(), [col1]] = (gene[col2] + gene[col3])/2\n",
    "    gene.loc[gene[col2].isna(), [col2]] = (gene[col1] + gene[col3])/2\n",
    "    gene.loc[gene[col3].isna(), [col3]] = (gene[col2] + gene[col1])/2\n"
   ]
  },
  {
   "cell_type": "code",
   "execution_count": 8,
   "metadata": {},
   "outputs": [
    {
     "data": {
      "text/plain": [
       "symbol    0\n",
       "S1        0\n",
       "S2        0\n",
       "S3        0\n",
       "S4        0\n",
       "S5        0\n",
       "S6        0\n",
       "S7        0\n",
       "S8        0\n",
       "S9        0\n",
       "S10       0\n",
       "S11       0\n",
       "S12       0\n",
       "S13       0\n",
       "S14       0\n",
       "S15       0\n",
       "S16       0\n",
       "S17       0\n",
       "S18       0\n",
       "S19       0\n",
       "S20       0\n",
       "S21       0\n",
       "S22       0\n",
       "S23       0\n",
       "S24       0\n",
       "S25       0\n",
       "S26       0\n",
       "S27       0\n",
       "S28       0\n",
       "S29       0\n",
       "S30       0\n",
       "dtype: int64"
      ]
     },
     "execution_count": 8,
     "metadata": {},
     "output_type": "execute_result"
    }
   ],
   "source": [
    "#Check for nulls\n",
    "gene.isnull().sum()"
   ]
  },
  {
   "cell_type": "code",
   "execution_count": 9,
   "metadata": {},
   "outputs": [
    {
     "data": {
      "text/plain": [
       "(22164, 31)"
      ]
     },
     "execution_count": 9,
     "metadata": {},
     "output_type": "execute_result"
    }
   ],
   "source": [
    "gene.shape"
   ]
  },
  {
   "cell_type": "code",
   "execution_count": 10,
   "metadata": {},
   "outputs": [
    {
     "name": "stdout",
     "output_type": "stream",
     "text": [
      "   symbol          S1          S2          S3          S4          S5  \\\n",
      "63  Zmym6  631.834574  648.590782  615.078366  559.695346  819.166506   \n",
      "\n",
      "            S6          S7         S8          S9  ...        S21         S22  \\\n",
      "63  573.146122  797.685258  742.66541  649.458916  ...  408.90803  736.893488   \n",
      "\n",
      "           S23         S24         S25         S26         S27         S28  \\\n",
      "63  414.124161  395.868775  476.199601  421.694505  398.827926  557.137278   \n",
      "\n",
      "           S29          S30  \n",
      "63  504.222173  1443.375594  \n",
      "\n",
      "[1 rows x 31 columns]\n",
      "      symbol         S1         S2         S3         S4         S5  \\\n",
      "12877  Hsh2d  61.446378  61.446378  61.446378  47.350935  48.823749   \n",
      "\n",
      "              S6         S7         S8         S9  ...       S21        S22  \\\n",
      "12877  65.912579  55.761715  55.448118  59.322343  ...  106.4767  76.155684   \n",
      "\n",
      "             S23        S24        S25        S26        S27        S28  \\\n",
      "12877  69.659415  98.875838  99.528299  89.946493  73.897467  66.071454   \n",
      "\n",
      "             S29        S30  \n",
      "12877  52.450426  67.529258  \n",
      "\n",
      "[1 rows x 31 columns]\n"
     ]
    }
   ],
   "source": [
    "print(gene[gene.symbol == 'Zmym6'])\n",
    "print(gene[gene.symbol == 'Hsh2d'])\n"
   ]
  },
  {
   "cell_type": "code",
   "execution_count": 11,
   "metadata": {},
   "outputs": [
    {
     "name": "stdout",
     "output_type": "stream",
     "text": [
      "63    648.590782\n",
      "Name: S2, dtype: float64\n",
      "63    615.078366\n",
      "Name: S3, dtype: float64\n"
     ]
    }
   ],
   "source": [
    "print(gene[gene.symbol == 'Zmym6']['S2'])\n",
    "print(gene[gene.symbol == 'Zmym6']['S3'])"
   ]
  },
  {
   "cell_type": "code",
   "execution_count": null,
   "metadata": {},
   "outputs": [],
   "source": [
    "gene[['symbol','diff']].head(100)"
   ]
  },
  {
   "cell_type": "code",
   "execution_count": 14,
   "metadata": {},
   "outputs": [],
   "source": [
    "gene.to_csv('Ranajoy_Bhattacharya_MissingValueTreatedonGenes.csv',index=False)"
   ]
  }
 ],
 "metadata": {
  "kernelspec": {
   "display_name": "Python 3",
   "language": "python",
   "name": "python3"
  },
  "language_info": {
   "codemirror_mode": {
    "name": "ipython",
    "version": 3
   },
   "file_extension": ".py",
   "mimetype": "text/x-python",
   "name": "python",
   "nbconvert_exporter": "python",
   "pygments_lexer": "ipython3",
   "version": "3.7.4"
  }
 },
 "nbformat": 4,
 "nbformat_minor": 4
}
